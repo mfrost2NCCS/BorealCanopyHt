{
 "cells": [
  {
   "cell_type": "raw",
   "id": "f7633e46-e0fe-4940-a21d-e99136322d0d",
   "metadata": {
    "tags": []
   },
   "source": [
    "# Frost workspace Boreal Map comparison \n",
    "This notebook compares maps generated from the Boreal prediction model\n",
    "functions adapted from Zach and Jain's Prediction and Train workbooks to\n",
    "Create aggregated datasets of boreal height predictions\n",
    "\n",
    "last updated 5/8/23"
   ]
  },
  {
   "cell_type": "code",
   "execution_count": null,
   "id": "fb519182-172e-4fc2-87e6-5f91bd4d741b",
   "metadata": {
    "tags": []
   },
   "outputs": [],
   "source": [
    "import os\n",
    "import sys\n",
    "import rioxarray as rxr\n",
    "import numpy as np\n",
    "import treelite\n",
    "import rasterio as rio\n",
    "import matplotlib\n",
    "import geopandas as gpd\n",
    "import pandas as pd\n",
    "\n",
    "from osgeo import gdal,gdal_array,osr\n",
    "\n",
    "import matplotlib.pyplot as plt\n",
    "\n",
    "import panel as pn\n",
    "\n",
    "from tqdm import tqdm\n",
    "\n",
    "import holoviews as hv\n",
    "import geoviews as gv\n",
    "gv.extension('bokeh')\n",
    "#gv.extension('matplotlib')\n",
    "\n",
    "import xarray as xr\n",
    "import rioxarray as rxr\n",
    "\n",
    "import joblib\n",
    "\n",
    "import glob\n",
    "\n",
    "#save the plots for comparison\n",
    "import cartopy.crs as ccrs\n",
    "from bokeh.resources import INLINE\n",
    "\n",
    "#sys.path.append('/home/jovyan/BOREAL_MD/rfexpl')\n",
    "#import rfexpl\n",
    "\n",
    "import warnings\n",
    "warnings.filterwarnings(\"ignore\")\n",
    "\n",
    "#shap.initjs()"
   ]
  },
  {
   "cell_type": "code",
   "execution_count": null,
   "id": "04903dc9-8ccc-4d14-9f30-9752adbdba17",
   "metadata": {},
   "outputs": [],
   "source": [
    "gv.__version__"
   ]
  },
  {
   "cell_type": "code",
   "execution_count": null,
   "id": "indonesian-grave",
   "metadata": {
    "tags": []
   },
   "outputs": [],
   "source": [
    "## Define global variables\n",
    "\n",
    "#Circumpolar\n",
    "#minlon = -179.02\n",
    "#maxlon = 180\n",
    "#minlat = 49.99\n",
    "#maxlat = 74.95\n",
    "\n",
    "#Eurasia\n",
    "#minlon = 25\n",
    "#maxlon = 179.02\n",
    "#minlat = 52.01\n",
    "#maxlat = 75.00\n",
    "\n",
    "\n",
    "#04/17/2023 Boreal\n",
    "minlon = -169\n",
    "maxlon = -50\n",
    "minlat = 45\n",
    "maxlat = 75\n",
    "\n",
    "bbox = [minlon, minlat, maxlon, maxlat]\n",
    "#fn = '/efs/STG_Tutorial_Data/BorealHeight_RF/prediction/wc2.1_2.5m_bio_1.tif'\n",
    "fn = '/explore/nobackup/projects/ilab/data/worldclim/1km/bioclim_cmip6/wc2.1_2.5m_bio/wc2.1_2.5m_bio_1.tif'\n",
    "tmp = rxr.open_rasterio(fn, mask_and_scale=True).rio.clip_box(minlon, minlat, maxlon, maxlat)\n",
    "lons = tmp.x.values\n",
    "lats = tmp.y.values\n",
    "shape = (len(lats), len(lons))\n",
    "print('Expected size:')\n",
    "print(shape)\n",
    "tmp=None\n",
    "\n",
    "print('Lons:')\n",
    "print(len(lons))\n",
    "with rio.open(fn) as src:\n",
    "    meta = src.meta\n",
    "# with rxr.open_rasterio(fn) as src:\n",
    "#     meta = src.meta\n",
    "#print(meta)\n",
    "src.close()\n",
    "# color map for prediction\n",
    "## 'black','#636363','#fc8d59','#fee08b','#ffffbf','#d9ef8b','#91cf60','#1a9850'\n",
    "clrs = ['#fee08b','#ffffbf','#d9ef8b','#91cf60','#1a9850']\n",
    "cmap_p = matplotlib.colors.LinearSegmentedColormap.from_list(name=\"color_p\", \n",
    "                                                             colors=clrs, N=16) \n",
    "\n",
    "# color map for trend\n",
    "brbg= matplotlib.cm.get_cmap('BrBG', 256)\n",
    "grey = matplotlib.cm.get_cmap('Greys', 20)\n",
    "gs = grey(np.linspace(0, 1, 20))\n",
    "newcolors = brbg(np.linspace(0, 1, 256))\n",
    "newcolors[85:170, :] = gs[5]\n",
    "cmap_t = matplotlib.colors.ListedColormap(newcolors)\n",
    "\n",
    "# set basemap\n",
    "#baseMap = gv.tile_sources.EsriImagery\n",
    "baseMap = gv.tile_sources.CartoLight\n",
    "#baseMapRGB = gv.util.get_tile_rgb(baseMap,bbox=(minlon, minlat, maxlon, maxlat), zoom_level=1).opts(width=800, height=400, projection=ccrs.PlateCarree())\n"
   ]
  },
  {
   "cell_type": "code",
   "execution_count": null,
   "id": "3331e5f7-c1cc-46a7-b449-61f38dcaefe5",
   "metadata": {},
   "outputs": [],
   "source": [
    "#boreal extent\n",
    "boreal_ext = gpd.read_file('/panfs/ccds02/nobackup/people/pmontesa/userfs02/arc/wwf_circumboreal_Dissolve.shp')\n",
    "NA_boreal_ext = boreal_ext[boreal_ext[\"REALM\"] == \"NA\"]\n",
    "# fig, ax = plt.subplots(figsize = (10,10))\n",
    "# NA_boreal_ext.plot(ax=ax)\n",
    "#plt.show()\n",
    "\n",
    "NA_boreal_ext = NA_boreal_ext.to_crs(4326) #Set CRS"
   ]
  },
  {
   "cell_type": "code",
   "execution_count": null,
   "id": "4623f84f-e655-4c44-adab-ff5ecfd5fd36",
   "metadata": {
    "tags": []
   },
   "outputs": [],
   "source": [
    "#Add 30 arc sec (about 100 km) buffer\n",
    "NA_boreal_ext_buff = NA_boreal_ext.buffer(0.833)\n",
    "fig, ax = plt.subplots(figsize = (10,10))\n",
    "NA_boreal_ext.plot(ax=ax)\n",
    "NA_boreal_ext_buff.plot(ax=ax, color = 'green', alpha = .5)\n",
    "plt.show()"
   ]
  },
  {
   "cell_type": "code",
   "execution_count": null,
   "id": "adebf320-a05d-4979-81f0-6d908cc4ff91",
   "metadata": {
    "tags": []
   },
   "outputs": [],
   "source": [
    "#boreal regions\n",
    "wwf_reg = gpd.read_file('/panfs/ccds02/nobackup/people/pmontesa/userfs02/arc/wwf_terr_ecos.shp')\n",
    "boreal_reg = gpd.clip(wwf_reg, NA_boreal_ext)\n",
    "boreal_reg = boreal_reg.dissolve(by='ECO_NAME')\n",
    "fig, ax = plt.subplots(figsize = (10,10))\n",
    "boreal_reg.plot(ax=ax, cmap='tab20')\n",
    "plt.title(\"WWF Ecoregions\")\n",
    "plt.show()\n",
    "print(\"The number of regions is: \"+str(len(boreal_reg)))\n",
    "#print(boreal_reg.head())"
   ]
  },
  {
   "cell_type": "code",
   "execution_count": null,
   "id": "a89dd336-133a-4d57-9f66-7e0e2447627b",
   "metadata": {},
   "outputs": [],
   "source": [
    "#Save ecoregions into list\n",
    "import pandas as pd\n",
    "df = pd.DataFrame(boreal_reg)\n",
    "eco_reg_list = list(df.index.values)"
   ]
  },
  {
   "cell_type": "code",
   "execution_count": null,
   "id": "454496e3-7f71-4316-aa56-409eeddc7fcc",
   "metadata": {},
   "outputs": [],
   "source": [
    "# funtion to plot result \n",
    "def map_bioclim(arr, mode=\"pred\"):\n",
    "    if mode == \"pred\":\n",
    "        cmap = cmap_p\n",
    "        clim = (0.5, 25.5)\n",
    "        logz = True\n",
    "    if mode == \"diff\":\n",
    "        cmap = \"BrBG\"\n",
    "        clim = (-5.0, 5.0)\n",
    "        logz = False\n",
    "    if mode == \"trend\":\n",
    "        cmap = cmap_t\n",
    "        clim = (-5.0, 5.0)\n",
    "        logz = False\n",
    "        \n",
    "    img_opts = dict(\n",
    "        width=600, \n",
    "        height=300, \n",
    "        logz=logz,\n",
    "        cmap=cmap,\n",
    "        colorbar=True,\n",
    "        clim = clim,\n",
    "        tools=[\"hover\"], active_tools=['wheel_zoom']\n",
    "        )\n",
    "    gv_dataset = gv_dataset = gv.Dataset((lons, lats, arr), ['longitude', 'latitude'], mode)\n",
    "    \n",
    "    return gv.Image(gv_dataset).opts(**img_opts)"
   ]
  },
  {
   "cell_type": "code",
   "execution_count": null,
   "id": "cf6760f7-ccbc-4223-aa47-413bd6de53ad",
   "metadata": {},
   "outputs": [],
   "source": [
    "fp = '/explore/nobackup/people/mfrost2/projects/boreal_hcan/output/'\n",
    "os.chdir(fp)\n",
    "\n",
    "#sn_list = ['ssp126', 'ssp245', 'ssp370', 'ssp585']\n",
    "sn_list = ['ssp370', 'ssp585']\n",
    "#sn = sn_list[1]"
   ]
  },
  {
   "cell_type": "code",
   "execution_count": null,
   "id": "eb39eb91-b936-4fde-bf48-31bfa8b28684",
   "metadata": {},
   "outputs": [],
   "source": [
    "os.getcwd()"
   ]
  },
  {
   "cell_type": "code",
   "execution_count": null,
   "id": "grateful-there",
   "metadata": {
    "tags": []
   },
   "outputs": [],
   "source": [
    "# show current\n",
    "tmp = rxr.open_rasterio('North_America_Current_filtered_noPerm_20230425.tif', mask_and_scale=True).rio.clip_box(minlon, minlat, maxlon, maxlat).squeeze()\n",
    "\n",
    "img0 = map_bioclim(tmp, 'pred')\n",
    "pn.Column(img0*baseMap)"
   ]
  },
  {
   "cell_type": "code",
   "execution_count": null,
   "id": "8960a5c9-a2bd-4975-8fbf-2b66cc78bfc2",
   "metadata": {
    "tags": []
   },
   "outputs": [],
   "source": [
    "# show current clipped\n",
    "tmp = rxr.open_rasterio('North_America_Current_filtered_noPerm_20230425.tif', mask_and_scale=True).rio.clip_box(minlon, minlat, maxlon, maxlat).squeeze()\n",
    "tmp_clipped = tmp.rio.clip(NA_boreal_ext.geometry, drop = False)\n",
    "\n",
    "img0 = map_bioclim(tmp_clipped, 'pred')\n",
    "pn.Column(img0*baseMap)"
   ]
  },
  {
   "cell_type": "code",
   "execution_count": null,
   "id": "20611a6e-3beb-47c2-ab92-292f61778669",
   "metadata": {
    "tags": []
   },
   "outputs": [],
   "source": [
    "# show current clipped by region\n",
    "#tmp = rxr.open_rasterio('North_America_Current_filtered_noPerm_20230425.tif', mask_and_scale=True).rio.clip_box(minlon, minlat, maxlon, maxlat).squeeze()\n",
    "tmp_r_clipped = tmp.rio.clip(boreal_reg.geometry, drop = False)\n",
    "\n",
    "img0 = map_bioclim(tmp_r_clipped, 'pred')\n",
    "pn.Column(img0*baseMap)"
   ]
  },
  {
   "cell_type": "markdown",
   "id": "505fe884-e671-4ae2-8f55-9517b2b3dfd9",
   "metadata": {},
   "source": [
    "# Load Permafrost zone types\n",
    "### (Extent - Ice Content - Landform)"
   ]
  },
  {
   "cell_type": "code",
   "execution_count": null,
   "id": "637e55b4-605f-419f-b9e7-20bc996c7513",
   "metadata": {},
   "outputs": [],
   "source": [
    "#Permafrost combination types,\n",
    "pf_reg = gpd.read_file(r'/panfs/ccds02/nobackup/people/mfrost2/projects/boreal_hcan/GIS/permafrost_combo.shp') \n",
    "#pf_reg = gpd.read_file(r'/panfs/ccds02/nobackup/people/mfrost2/projects/boreal_hcan/GIS/Permafrost_extent.shp')\n",
    "pf_reg = gpd.clip(pf_reg, NA_boreal_ext)\n",
    "#boreal_reg = boreal_reg.dissolve(by='ECO_NAME') ALready performed in ARCGIS\n",
    "fig, ax = plt.subplots(figsize = (10,10))\n",
    "pf_reg.plot(ax=ax, cmap='tab20')\n",
    "plt.title(\"Permafrost Zones\")\n",
    "plt.show()\n",
    "print(\"The number of zones is: \"+str(len(pf_reg)))\n",
    "#print(boreal_reg.head())"
   ]
  },
  {
   "cell_type": "code",
   "execution_count": null,
   "id": "49ec4d89-bdc3-4108-b383-896ff3aafe26",
   "metadata": {},
   "outputs": [],
   "source": [
    "tmp_pf_clipped = tmp.rio.clip(pf_reg.geometry, drop = False)\n",
    "\n",
    "img0 = map_bioclim(tmp_pf_clipped, 'pred')\n",
    "pn.Column(img0*baseMap)"
   ]
  },
  {
   "cell_type": "markdown",
   "id": "sorted-berry",
   "metadata": {},
   "source": [
    "## Load Files to graph"
   ]
  },
  {
   "cell_type": "code",
   "execution_count": null,
   "id": "legendary-stream",
   "metadata": {},
   "outputs": [],
   "source": [
    "# show maps\n",
    "med_list = []\n",
    "med_list_diff = []\n",
    "for j in range(0, len(sn_list)):\n",
    "    sn = sn_list[j]\n",
    "    \n",
    "    #Make lists of medians and median differences\n",
    "\n",
    "    for file in glob.glob('Median_'+sn+'*0.tif'):\n",
    "        med_list.append(file)\n",
    "    med_list = sorted(med_list)\n",
    "\n",
    "    for file in glob.glob('Median_'+sn+'*F.tif'):\n",
    "        med_list_diff.append(file)\n",
    "    med_list_diff = sorted(med_list_diff)\n",
    "      \n",
    "    for i in range(0, len(med_list)):\n",
    "        \n",
    "        yr = med_list[i][14:23]\n",
    "\n",
    "        img_p = rxr.open_rasterio(med_list[i], mask_and_scale=True).rio.clip_box(minlon, minlat, maxlon, maxlat).squeeze()\n",
    "        pimg = map_bioclim(img_p, 'pred')\n",
    "        title = f\"Predicted HCan {yr} {sn}\"\n",
    "        #title = f\"Predicted HCan {sn[i]}\"\n",
    "        pimg.opts(title=title)\n",
    "\n",
    "        img_d = rxr.open_rasterio(med_list_diff[i], mask_and_scale=True).rio.clip_box(minlon, minlat, maxlon, maxlat).squeeze()\n",
    "        dimg = map_bioclim(img_d, 'diff')\n",
    "        title = f\"HCan difference CMIP6 {sn} vs. Current\"\n",
    "        dimg.opts(title=title)\n",
    "    \n",
    "#    rows.append(pimg*baseMap+dimg*baseMap)\n",
    "    \n",
    "print(med_list)\n",
    "print(med_list_diff)"
   ]
  },
  {
   "cell_type": "code",
   "execution_count": null,
   "id": "fa33b3a7-cb2b-4612-89cc-90b5dd8ebb74",
   "metadata": {},
   "outputs": [],
   "source": [
    "# show maps\n",
    "rows = []\n",
    "\n",
    "for i in range(0, len(med_list)):\n",
    "\n",
    "    yr = med_list[i][14:23]\n",
    "    sn1 = med_list[i][7:13]\n",
    "    \n",
    "    img_p = rxr.open_rasterio(med_list[i], mask_and_scale=True).rio.clip_box(minlon, minlat, maxlon, maxlat).squeeze()\n",
    "    #clip by NA_boreal_ext\n",
    "    img_p = img_p.rio.clip(NA_boreal_ext_buff.geometry, drop = False)\n",
    "    pimg = map_bioclim(img_p, 'pred')\n",
    "    title = f\"Predicted HCan {yr} {sn1}\"\n",
    "    #title = f\"Predicted HCan {sn[i]}\"\n",
    "    pimg.opts(title=title)\n",
    "\n",
    "    img_d = rxr.open_rasterio(med_list_diff[i], mask_and_scale=True).rio.clip_box(minlon, minlat, maxlon, maxlat).squeeze()\n",
    "    #clip by NA_boreal_ext\n",
    "    img_d = img_d.rio.clip(NA_boreal_ext_buff.geometry, drop = False)\n",
    "    dimg = map_bioclim(img_d, 'diff')\n",
    "    title = f\"HCan difference CMIP6 {sn1} vs. Current\"\n",
    "    dimg.opts(title=title)\n",
    "    \n",
    "    rows.append(pimg*baseMap+dimg*baseMap)"
   ]
  },
  {
   "cell_type": "code",
   "execution_count": null,
   "id": "0e5c9706-b72a-47c4-a129-6a45ce5f6a66",
   "metadata": {
    "tags": []
   },
   "outputs": [],
   "source": [
    "rows"
   ]
  },
  {
   "cell_type": "raw",
   "id": "9c935892-31a2-4d80-a937-1b38b194b512",
   "metadata": {
    "tags": []
   },
   "source": [
    "#Displays the maps, but they have been crashing mel's memory for some reason\n",
    "pn.Column(rows[0], \n",
    "          rows[1],\n",
    "          rows[2],\n",
    "          rows[3], \n",
    "          rows[4],\n",
    "          rows[5])"
   ]
  },
  {
   "cell_type": "markdown",
   "id": "6e79c0ab-c6e6-4479-9d18-2048293430b9",
   "metadata": {},
   "source": [
    "# Histograms of scenarios"
   ]
  },
  {
   "cell_type": "code",
   "execution_count": null,
   "id": "2820a1ae-7c0b-44f8-884e-b987586893e1",
   "metadata": {
    "tags": []
   },
   "outputs": [],
   "source": [
    "for i in range(0, len(med_list)):\n",
    "    fig, axes = plt.subplots(1, 2, figsize = (10,5), sharey = True)\n",
    "    \n",
    "    #h_can charts\n",
    "    yr = med_list[i][14:23]\n",
    "    sn1 = med_list[i][7:13]\n",
    "    \n",
    "    tmp_p = rxr.open_rasterio(med_list[i], mask_and_scale=True).rio.clip_box(minlon, minlat, maxlon, maxlat).squeeze()\n",
    "    valMax = str(round(np.nanmax(tmp_p),3))\n",
    "    valMin = str(round(np.nanmin(tmp_p),3))\n",
    "    valMean = str(round(np.nanmean(tmp_p),3))\n",
    "    valSTD = str(round(np.nanstd(tmp_p),3))\n",
    "\n",
    "    plt1 = tmp_p.plot.hist(ax = axes[0], bins=60, range=[-.5,30.5], color = \"forestgreen\", edgecolor = 'black')\n",
    "    axes[0].set(title=f'Predicted HCan {yr} {sn1}',\n",
    "    xlabel='Canopy Height (meters)',\n",
    "    ylabel='Frequency')\n",
    "    plt.text(0.5,0.5, f'mean: {valMean}\\n STD: {valSTD}\\n Min: {valMin}\\n Max: {valMax}', fontsize=14, transform = axes[0].transAxes)\n",
    "    \n",
    "    #difference charts\n",
    "    yr = med_list_diff[i][14:23]\n",
    "    \n",
    "    tmp_d = rxr.open_rasterio(med_list_diff[i], mask_and_scale=True).rio.clip_box(minlon, minlat, maxlon, maxlat).squeeze()\n",
    "    valMax = str(round(np.nanmax(tmp_d),3))\n",
    "    valMin = str(round(np.nanmin(tmp_d),3))\n",
    "    valMean = str(round(np.nanmean(tmp_d),3))\n",
    "    valSTD = str(round(np.nanstd(tmp_d),3))\n",
    "\n",
    "    plt2 = tmp_d.plot.hist(ax = axes[1], bins=60, range=[-30.5,30.5], color = \"orange\", edgecolor = 'black')\n",
    "    axes[1].set(title=f'HCan diff prediction {yr} {sn1} vs Current',\n",
    "    xlabel='Canopy height (meters)',\n",
    "    ylabel='Frequency')\n",
    "    plt.text(0.6,0.5, f'mean: {valMean}\\n STD: {valSTD}\\n Min: {valMin}\\n Max: {valMax}', fontsize=14, transform = axes[1].transAxes)\n",
    "    \n",
    "    plt.show()\n",
    "#    rows.append(tmp_p)\n",
    "#    rows.append(plt1 + plt2)"
   ]
  },
  {
   "cell_type": "markdown",
   "id": "0ce7d2f9-b390-40a8-99a3-0ba07437f213",
   "metadata": {},
   "source": [
    "# Summarize by region"
   ]
  },
  {
   "cell_type": "code",
   "execution_count": null,
   "id": "b71cb119-5939-42ae-8b5a-d015cd760ac2",
   "metadata": {
    "tags": []
   },
   "outputs": [],
   "source": [
    "# ##Test to see if regions functions worked\n",
    "# boreal_reg_temp = boreal_reg[boreal_reg.index == eco_reg_list[14]]\n",
    "# fig, ax = plt.subplots(figsize = (10,10))\n",
    "# boreal_reg_temp.plot(ax=ax, cmap='tab20')\n",
    "# plt.show()\n"
   ]
  },
  {
   "cell_type": "code",
   "execution_count": null,
   "id": "bd97a8e8-dc8d-45eb-8f87-bfd51170671d",
   "metadata": {},
   "outputs": [],
   "source": [
    "boreal_reg.index"
   ]
  },
  {
   "cell_type": "code",
   "execution_count": null,
   "id": "e5e880e3-d9cf-4a7c-9162-757acb20b5df",
   "metadata": {
    "tags": []
   },
   "outputs": [],
   "source": [
    "#Make histograms based on WWF ECORegions\n",
    "\n",
    "#eco_reg_small = eco_reg_list[0:3]\n",
    "#for j in range(0, len(eco_reg_small)):\n",
    "for j in range(0, len(eco_reg_list)):\n",
    "    boreal_reg_temp = boreal_reg[boreal_reg.index == eco_reg_list[j]]\n",
    "    for i in range(0, len(med_list)):\n",
    "        fig, axes = plt.subplots(1, 2, figsize = (10,5), sharey = True)\n",
    "\n",
    "        #h_can charts\n",
    "        yr = med_list[i][14:23]\n",
    "        sn1 = med_list[i][7:13]\n",
    "        reg = eco_reg_list[j]\n",
    "\n",
    "        tmp_p = rxr.open_rasterio(med_list[i], mask_and_scale=True).rio.clip_box(minlon, minlat, maxlon, maxlat).squeeze()\n",
    "        tmp_p = tmp_p.rio.clip(boreal_reg_temp.geometry, drop = False)\n",
    "        \n",
    "        valMax = str(round(np.nanmax(tmp_p),3))\n",
    "        valMin = str(round(np.nanmin(tmp_p),3))\n",
    "        valMean = str(round(np.nanmean(tmp_p),3))\n",
    "        valSTD = str(round(np.nanstd(tmp_p),3))\n",
    "        valSize = str(np.count_nonzero(~np.isnan(tmp_p)))\n",
    "\n",
    "        plt1 = tmp_p.plot.hist(ax = axes[0], bins=60, range=[-.5,30.5], color = \"forestgreen\", edgecolor = 'black', label = 'test')\n",
    "       \n",
    "        axes[0].set(title=f'Predicted HCan {yr} {sn1}',\n",
    "           #         subtitle='test',\n",
    "           xlabel='Canopy Height (meters)',\n",
    "           ylabel='Frequency')\n",
    "        plt.text(0.5,0.5, f'Region: {reg}\\n mean: {valMean}\\n STD: {valSTD}\\n Min: {valMin}\\n Max: {valMax}\\n Cells: {valSize}', fontsize=14, transform = axes[0].transAxes)\n",
    "        \n",
    "        #difference charts\n",
    "        yr = med_list_diff[i][14:23]\n",
    "\n",
    "        tmp_d = rxr.open_rasterio(med_list_diff[i], mask_and_scale=True).rio.clip_box(minlon, minlat, maxlon, maxlat).squeeze()\n",
    "        tmp_d = tmp_d.rio.clip(boreal_reg_temp.geometry, drop = False)\n",
    "        \n",
    "        valMaxD = str(round(np.nanmax(tmp_d),3))\n",
    "        valMinD = str(round(np.nanmin(tmp_d),3))\n",
    "        valMeanD = str(round(np.nanmean(tmp_d),3))\n",
    "        valSTDD = str(round(np.nanstd(tmp_d),3))\n",
    "        valSizeD = str(np.count_nonzero(~np.isnan(tmp_d)))\n",
    "\n",
    "        plt2 = tmp_d.plot.hist(ax = axes[1], bins=60, range=[-30.5,30.5], color = \"orange\", edgecolor = 'black')\n",
    "        axes[1].set(title=f'HCan diff prediction {yr} {sn1} vs Current',\n",
    "           xlabel='Canopy height (meters)',\n",
    "           ylabel='Frequency')\n",
    "        plt.text(0.6,0.5, f'Region: {reg}\\n mean: {valMeanD}\\n STD: {valSTDD}\\n Min: {valMinD}\\n Max: {valMaxD}\\n Cells: {valSizeD}', fontsize=14, transform = axes[1].transAxes)\n",
    "\n",
    "#        plt.show()\n",
    "        \n",
    "         \n",
    "        print(np.count_nonzero(~np.isnan(tmp_p)))"
   ]
  },
  {
   "cell_type": "code",
   "execution_count": null,
   "id": "297ea559-c608-4a3f-8b18-72bf9f760273",
   "metadata": {
    "tags": []
   },
   "outputs": [],
   "source": [
    "boreal_pred_df = pd.DataFrame()\n",
    "boreal_diff_df = pd.DataFrame()\n",
    "##Make DataFrame\n",
    "#for j in range(0, len(eco_reg_small)):\n",
    "for j in range(0, len(eco_reg_list)):\n",
    "    boreal_reg_temp = boreal_reg[boreal_reg.index == eco_reg_list[j]]\n",
    "    for i in range(0, len(med_list)):\n",
    "\n",
    "        #h_can \n",
    "        yr = med_list[i][14:23]\n",
    "        sn1 = med_list[i][7:13]\n",
    "        reg = eco_reg_list[j]\n",
    "\n",
    "        tmp_p = rxr.open_rasterio(med_list[i], mask_and_scale=True).rio.clip_box(minlon, minlat, maxlon, maxlat).squeeze()\n",
    "        tmp_p = tmp_p.rio.clip(boreal_reg_temp.geometry, drop = False)\n",
    "\n",
    "      \n",
    "        #difference charts\n",
    "        tmp_d = rxr.open_rasterio(med_list_diff[i], mask_and_scale=True).rio.clip_box(minlon, minlat, maxlon, maxlat).squeeze()\n",
    "        tmp_d = tmp_d.rio.clip(boreal_reg_temp.geometry, drop = False)\n",
    "        \n",
    "        #make df\n",
    "        pred_df = pd.DataFrame(tmp_p)\n",
    "        pred_df = pred_df.stack().reset_index()\n",
    "        pred_df['year'] = yr\n",
    "        pred_df['ssp'] = sn1\n",
    "        pred_df['reg'] = reg\n",
    "        boreal_pred_df = pd.concat([boreal_pred_df,pred_df])\n",
    "        \n",
    "        diff_df = pd.DataFrame(tmp_d)\n",
    "        diff_df = diff_df.stack().reset_index()\n",
    "        diff_df['year'] = yr\n",
    "        diff_df['ssp'] = sn1\n",
    "        diff_df['reg'] = reg\n",
    "        boreal_diff_df = pd.concat([boreal_diff_df,diff_df])\n"
   ]
  },
  {
   "cell_type": "code",
   "execution_count": null,
   "id": "4cd1da68-aa76-4757-ad63-ba3b4113ac31",
   "metadata": {},
   "outputs": [],
   "source": [
    "#Save as CSV\n",
    "boreal_pred_df = boreal_pred_df.rename(columns={\n",
    "    \"level_0\": \"vert\", \n",
    "    \"level_1\": \"horiz\",\n",
    "    0: \"hcan\"})\n",
    "boreal_pred_df = boreal_pred_df.sort_values('year')\n",
    "boreal_pred_df.to_csv('/panfs/ccds02/nobackup/people/mfrost2/projects/boreal_hcan/data/boreal_region_pred.csv',index=False)\n",
    "\n",
    "boreal_diff_df = boreal_diff_df.rename(columns={\n",
    "    \"level_0\": \"vert\", \n",
    "    \"level_1\": \"horiz\",\n",
    "    0: \"hcan_diff\"})\n",
    "boreal_diff_df = boreal_diff_df.sort_values('year')\n",
    "\n",
    "boreal_diff_df.to_csv('/panfs/ccds02/nobackup/people/mfrost2/projects/boreal_hcan/data/boreal_region_diff.csv',index=False)"
   ]
  },
  {
   "cell_type": "code",
   "execution_count": null,
   "id": "8e1eb852-76da-4e0f-b0f5-58a84f6ac4b3",
   "metadata": {},
   "outputs": [],
   "source": [
    "#count of pixels\n",
    "pixel_counts = boreal_pred_df.groupby(['reg']).hcan.agg(['count']).sort_values('count').reset_index()\n",
    "pixel_counts['count'] = (pixel_counts['count'] / 8).astype(int)\n",
    "print(pixel_counts)"
   ]
  },
  {
   "cell_type": "code",
   "execution_count": null,
   "id": "3247da22-d1de-4646-b855-dc146e032896",
   "metadata": {},
   "outputs": [],
   "source": [
    "#Boreal Prediciton aggregate\n",
    "boreal_pred_agg = boreal_pred_df.groupby(['ssp','year','reg']).hcan.agg(['min', 'max','mean','median','std','count']).sort_values('year').reset_index()\n",
    "boreal_pred_agg.to_csv('/panfs/ccds02/nobackup/people/mfrost2/projects/boreal_hcan/data/boreal_region_pred_agg.csv',index=False)\n",
    "boreal_pred_agg = boreal_pred_agg.sort_values('year')\n",
    "boreal_pred_agg.head()"
   ]
  },
  {
   "cell_type": "code",
   "execution_count": null,
   "id": "5c263da1-4822-4458-b8a2-84a81017924e",
   "metadata": {},
   "outputs": [],
   "source": [
    "#Boreal Difference aggregate\n",
    "boreal_diff_agg = boreal_diff_df.groupby(['ssp','year','reg']).hcan_diff.agg(['min', 'max','mean','median','std','count']).sort_values('year').reset_index()\n",
    "boreal_diff_agg.to_csv('/panfs/ccds02/nobackup/people/mfrost2/projects/boreal_hcan/data/boreal_region_diff_agg.csv',index=False)\n",
    "boreal_diff_agg = boreal_diff_agg.sort_values('year')\n",
    "boreal_diff_agg.head()"
   ]
  },
  {
   "cell_type": "code",
   "execution_count": null,
   "id": "b4e2602e-50ac-4a67-bab5-058362c96a1b",
   "metadata": {},
   "outputs": [],
   "source": [
    "#Prediction graphs\n",
    "\n",
    "import seaborn as sns\n",
    "\n",
    "g = sns.FacetGrid(boreal_pred_agg, col=\"ssp\", height=8)\n",
    "g.map_dataframe(sns.barplot, x = 'reg', y = 'mean', hue='year', palette= 'tab10')\n",
    "g.fig.subplots_adjust(top=0.9) # adjust the Figure in rp\n",
    "g.fig.suptitle('Boreal Canopy Height Prediction by Region {ssp}')\n",
    "g.add_legend()\n",
    "g.set_xticklabels(rotation=90)\n",
    "g.set_xlabels(\"Region\")\n",
    "g.set_ylabels(\"Mean Conopy Height (m)\")\n",
    "#add overall title\n",
    "\n",
    "plt.show()"
   ]
  },
  {
   "cell_type": "code",
   "execution_count": null,
   "id": "2cbc2a3b-431e-4d20-af9d-011f42139a9f",
   "metadata": {},
   "outputs": [],
   "source": [
    "#Difference Graphs\n",
    "g = sns.FacetGrid(boreal_diff_agg, col=\"ssp\", height=8)\n",
    "g.map_dataframe(sns.barplot, x = 'reg', y = 'mean', hue='year', palette= 'tab10')\n",
    "g.fig.subplots_adjust(top=0.9) # adjust the Figure in rp\n",
    "g.fig.suptitle('Boreal Canopy Height Differences Prediction to Current by Permafrost Zone {ssp}')\n",
    "g.add_legend()\n",
    "g.set_xticklabels(rotation=90)\n",
    "g.set_xlabels(\"Region\")\n",
    "g.set_ylabels(\"Mean Conopy Height differences (m)\")\n",
    "#add overall title\n",
    "\n",
    "plt.show()"
   ]
  },
  {
   "cell_type": "markdown",
   "id": "20f9eafa-beac-414c-9f1d-c755c1543e57",
   "metadata": {},
   "source": [
    "# Summarize by Permafrost Zone"
   ]
  },
  {
   "cell_type": "code",
   "execution_count": null,
   "id": "694afd52-c1e0-4f2a-bb27-fbc22e1c0e49",
   "metadata": {},
   "outputs": [],
   "source": [
    "#create subcategories based on extent, ice content, and landform\n",
    "pf_reg['extent'] = pf_reg['COMBO'].str[0]\n",
    "pf_reg['ice_content'] = pf_reg['COMBO'].str[1]\n",
    "pf_reg['landform'] = pf_reg['COMBO'].str[2]\n",
    "pf_reg.head()"
   ]
  },
  {
   "cell_type": "code",
   "execution_count": null,
   "id": "ba88e881-ef6b-4c74-a222-bcd066a72169",
   "metadata": {},
   "outputs": [],
   "source": [
    "##could also look at extent, ice_content, or landform instead of combo\n",
    "pf_list = pf_reg.COMBO.unique().tolist()\n",
    "pf_list"
   ]
  },
  {
   "cell_type": "code",
   "execution_count": null,
   "id": "f02b6445-5a52-46fb-ad8c-bacae949f7c5",
   "metadata": {},
   "outputs": [],
   "source": [
    "# ##Test to see if pf functions worked\n",
    "# pf_temp = pf_reg_temp = pf_reg[pf_reg.COMBO == pf_list[1]]\n",
    "# fig, ax = plt.subplots(figsize = (10,10))\n",
    "# pf_temp.plot(ax=ax, cmap='tab20')\n",
    "# plt.show()\n"
   ]
  },
  {
   "cell_type": "code",
   "execution_count": null,
   "id": "7cc08a5c-b4ee-4f3a-9a8d-cb25779c628f",
   "metadata": {},
   "outputs": [],
   "source": [
    "#create dataframes for each Permafrost Zone\n",
    "pf_pred_df = pd.DataFrame()\n",
    "pf_diff_df = pd.DataFrame()\n",
    "##Make DataFrame\n",
    "#for j in range(0, len(eco_reg_small)):\n",
    "for j in range(0, len(pf_list)):\n",
    "    pf_reg_temp = pf_reg[pf_reg.COMBO == pf_list[j]]\n",
    "    for i in range(0, len(med_list)):\n",
    "\n",
    "        #h_can \n",
    "        yr = med_list[i][14:23]\n",
    "        sn1 = med_list[i][7:13]\n",
    "        pf = pf_list[j]\n",
    "\n",
    "        tmp_p = rxr.open_rasterio(med_list[i], mask_and_scale=True).rio.clip_box(minlon, minlat, maxlon, maxlat).squeeze()\n",
    "        tmp_p = tmp_p.rio.clip(pf_reg_temp.geometry, drop = False)\n",
    "\n",
    "      \n",
    "        #difference charts\n",
    "        tmp_d = rxr.open_rasterio(med_list_diff[i], mask_and_scale=True).rio.clip_box(minlon, minlat, maxlon, maxlat).squeeze()\n",
    "        tmp_d = tmp_d.rio.clip(pf_reg_temp.geometry, drop = False)\n",
    "        \n",
    "        #make df\n",
    "        pred_df = pd.DataFrame(tmp_p)\n",
    "        pred_df = pred_df.stack().reset_index()\n",
    "        pred_df['year'] = yr\n",
    "        pred_df['ssp'] = sn1\n",
    "        pred_df['pf_codes'] = pf\n",
    "        pf_pred_df = pd.concat([pf_pred_df,pred_df])\n",
    "        \n",
    "        diff_df = pd.DataFrame(tmp_d)\n",
    "        diff_df = diff_df.stack().reset_index()\n",
    "        diff_df['year'] = yr\n",
    "        diff_df['ssp'] = sn1\n",
    "        diff_df['pf_codes'] = pf\n",
    "        pf_diff_df = pd.concat([pf_diff_df,diff_df])"
   ]
  },
  {
   "cell_type": "code",
   "execution_count": null,
   "id": "6003f329-cabc-40c5-bb1b-d33f3ddb7a0f",
   "metadata": {},
   "outputs": [],
   "source": [
    "pf_pred_df.head()"
   ]
  },
  {
   "cell_type": "code",
   "execution_count": null,
   "id": "8b3ce4d2-6cc3-4325-a95b-90abe5bf0d69",
   "metadata": {},
   "outputs": [],
   "source": [
    "#Save as CSV\n",
    "pf_pred_df = pf_pred_df.rename(columns={\n",
    "    \"level_0\": \"vert\", \n",
    "    \"level_1\": \"horiz\",\n",
    "    0: \"hcan\"})\n",
    "pf_pred_df['extent'] = pf_pred_df['pf_codes'].str[0]\n",
    "pf_pred_df['ice_content'] = pf_pred_df['pf_codes'].str[1]\n",
    "pf_pred_df['landform'] = pf_pred_df['pf_codes'].str[2]\n",
    "pf_pred_df = pf_pred_df.sort_values('year')\n",
    "\n",
    "pf_pred_df.to_csv('/panfs/ccds02/nobackup/people/mfrost2/projects/boreal_hcan/data/boreal_pf_pred.csv',index=False)\n",
    "\n",
    "pf_diff_df = pf_diff_df.rename(columns={\n",
    "    \"level_0\": \"vert\", \n",
    "    \"level_1\": \"horiz\",\n",
    "    0: \"hcan_diff\"})\n",
    "pf_diff_df['extent'] = pf_diff_df['pf_codes'].str[0]\n",
    "pf_diff_df['ice_content'] = pf_diff_df['pf_codes'].str[1]\n",
    "pf_diff_df['landform'] = pf_diff_df['pf_codes'].str[2]\n",
    "pf_diff_df = pf_diff_df.sort_values('year')\n",
    "\n",
    "boreal_diff_df.to_csv('/panfs/ccds02/nobackup/people/mfrost2/projects/boreal_hcan/data/boreal_pf_diff.csv',index=False)"
   ]
  },
  {
   "cell_type": "code",
   "execution_count": null,
   "id": "2c1ed38f-6d9e-44c3-b96d-0e966ea278fa",
   "metadata": {},
   "outputs": [],
   "source": [
    "#count of pixels\n",
    "pixel_counts = pf_pred_df.groupby(['pf_codes']).hcan.agg(['count']).sort_values('count').reset_index()\n",
    "pixel_counts['count'] = (pixel_counts['count'] / 8).astype(int)\n",
    "print(pixel_counts)"
   ]
  },
  {
   "cell_type": "code",
   "execution_count": null,
   "id": "d0f41f39-35e9-4d1d-879f-b2e6729fae93",
   "metadata": {},
   "outputs": [],
   "source": [
    "#Boreal Prediciton aggregate\n",
    "pf_pred_agg = pf_pred_df.groupby(['ssp','year','pf_codes', 'extent', 'ice_content', 'landform']).hcan.agg(['min', 'max','mean','median','std','count']).sort_values('year').reset_index()\n",
    "pf_pred_agg.to_csv('/panfs/ccds02/nobackup/people/mfrost2/projects/boreal_hcan/data/boreal_pf_pred_agg.csv',index=False)\n",
    "pf_pred_agg = pf_pred_agg.sort_values('year')\n",
    "pf_pred_agg.head()"
   ]
  },
  {
   "cell_type": "code",
   "execution_count": null,
   "id": "3685e45d-32a0-4929-b328-7ac2571b1086",
   "metadata": {},
   "outputs": [],
   "source": [
    "#Boreal Difference aggregate\n",
    "pf_diff_agg = pf_diff_df.groupby(['ssp','year','pf_codes', 'extent', 'ice_content', 'landform']).hcan_diff.agg(['min', 'max','mean','median','std','count']).sort_values('year').reset_index()\n",
    "pf_diff_agg.to_csv('/panfs/ccds02/nobackup/people/mfrost2/projects/boreal_hcan/data/boreal_pf_diff_agg.csv',index=False)\n",
    "pf_diff_agg = pf_diff_agg.sort_values('year')\n",
    "pf_diff_agg.head()"
   ]
  },
  {
   "cell_type": "code",
   "execution_count": null,
   "id": "84954c3f-068c-447c-9d01-5cc64719b51e",
   "metadata": {},
   "outputs": [],
   "source": [
    "#Prediction graphs\n",
    "\n",
    "import seaborn as sns\n",
    "\n",
    "g = sns.FacetGrid(pf_pred_agg, col=\"ssp\", height=8)\n",
    "g.map_dataframe(sns.barplot, x = 'pf_codes', y = 'mean', hue='year', palette= 'tab10')\n",
    "g.fig.subplots_adjust(top=0.9) # adjust the Figure in rp\n",
    "g.fig.suptitle('Boreal Canopy Height Prediction by Permafrost Zone {ssp}')\n",
    "g.add_legend()\n",
    "g.set_xticklabels(rotation=90)\n",
    "g.set_xlabels(\"Region\")\n",
    "g.set_ylabels(\"Mean Conopy Height (m)\")\n",
    "#add overall title\n",
    "\n",
    "plt.show()"
   ]
  },
  {
   "cell_type": "code",
   "execution_count": null,
   "id": "1b4d8444-ba27-4e69-a464-b0e260ac9a7c",
   "metadata": {},
   "outputs": [],
   "source": [
    "#Difference Graphs\n",
    "g = sns.FacetGrid(pf_diff_agg, col=\"ssp\", height=8)\n",
    "g.map_dataframe(sns.barplot, x = 'pf_codes', y = 'mean', hue='year', palette= 'tab10')\n",
    "g.fig.subplots_adjust(top=0.9) # adjust the Figure in rp\n",
    "g.fig.suptitle('Boreal Canopy Height Differences Prediction to Current by Permafrost Zone {ssp}')\n",
    "g.add_legend()\n",
    "g.set_xticklabels(rotation=90)\n",
    "g.set_xlabels(\"Region\")\n",
    "g.set_ylabels(\"Mean Conopy Height differences (m)\")\n",
    "#add overall title\n",
    "\n",
    "plt.show()"
   ]
  },
  {
   "cell_type": "code",
   "execution_count": null,
   "id": "752f379e-caf8-4bb3-b32e-e947d73f6950",
   "metadata": {},
   "outputs": [],
   "source": [
    "yr_list = ['2021-2040','2041-2060','2061-2080', '2081-2100']"
   ]
  }
 ],
 "metadata": {
  "kernelspec": {
   "display_name": "Python [conda env:ilab-pytorch]",
   "language": "python",
   "name": "conda-env-ilab-pytorch-py"
  },
  "language_info": {
   "codemirror_mode": {
    "name": "ipython",
    "version": 3
   },
   "file_extension": ".py",
   "mimetype": "text/x-python",
   "name": "python",
   "nbconvert_exporter": "python",
   "pygments_lexer": "ipython3",
   "version": "3.9.15"
  }
 },
 "nbformat": 4,
 "nbformat_minor": 5
}
